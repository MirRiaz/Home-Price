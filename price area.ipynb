{
 "cells": [
  {
   "cell_type": "code",
   "execution_count": null,
   "id": "0e2d08c2",
   "metadata": {},
   "outputs": [],
   "source": [
    "import pandas as pd \n",
    "import numpy as np\n",
    "import matplotlib.pyplot as plt\n",
    "from sklearn import linear_model"
   ]
  },
  {
   "cell_type": "code",
   "execution_count": null,
   "id": "921fc065",
   "metadata": {},
   "outputs": [],
   "source": [
    "df = pd.read_csv('hmp.csv')\n",
    "df\n"
   ]
  },
  {
   "cell_type": "code",
   "execution_count": null,
   "id": "92e823e2",
   "metadata": {},
   "outputs": [],
   "source": [
    "%matplotlib inline\n",
    "plt.xlabel('area(sqr fit)')\n",
    "plt.ylabel('price(USD$)')\n",
    "plt.title(\"Home Price\")\n",
    "plt.scatter(df.area, df.price, color='red', marker='+');\n"
   ]
  },
  {
   "cell_type": "code",
   "execution_count": null,
   "id": "14146720",
   "metadata": {},
   "outputs": [],
   "source": [
    "reg = linear_model.LinearRegression()\n",
    "reg.fit(df[['area']], df.price)\n",
    "reg.predict(3300);"
   ]
  },
  {
   "cell_type": "raw",
   "id": "8dc18a47",
   "metadata": {},
   "source": [
    "reg.predict(3300);"
   ]
  },
  {
   "cell_type": "code",
   "execution_count": null,
   "id": "4fb9032b",
   "metadata": {},
   "outputs": [],
   "source": []
  },
  {
   "cell_type": "code",
   "execution_count": null,
   "id": "c3af3a7f",
   "metadata": {},
   "outputs": [],
   "source": []
  }
 ],
 "metadata": {
  "kernelspec": {
   "display_name": "Python 3 (ipykernel)",
   "language": "python",
   "name": "python3"
  },
  "language_info": {
   "codemirror_mode": {
    "name": "ipython",
    "version": 3
   },
   "file_extension": ".py",
   "mimetype": "text/x-python",
   "name": "python",
   "nbconvert_exporter": "python",
   "pygments_lexer": "ipython3",
   "version": "3.9.13"
  }
 },
 "nbformat": 4,
 "nbformat_minor": 5
}
